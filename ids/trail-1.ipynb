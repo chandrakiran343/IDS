{
 "cells": [
  {
   "cell_type": "code",
   "execution_count": null,
   "id": "8f86f330",
   "metadata": {},
   "outputs": [],
   "source": [
    "import pandas as pd"
   ]
  },
  {
   "cell_type": "code",
   "execution_count": null,
   "id": "22c0c2e8",
   "metadata": {},
   "outputs": [],
   "source": [
    "df = pd.read_csv(\"UNSW_NB15_training-set.csv\")"
   ]
  },
  {
   "cell_type": "code",
   "execution_count": null,
   "id": "908ac097",
   "metadata": {},
   "outputs": [],
   "source": [
    "from sklearn.preprocessing import LabelEncoder"
   ]
  },
  {
   "cell_type": "code",
   "execution_count": null,
   "id": "ad27f18d",
   "metadata": {},
   "outputs": [],
   "source": [
    "le = LabelEncoder()"
   ]
  },
  {
   "cell_type": "code",
   "execution_count": null,
   "id": "dae9e086",
   "metadata": {},
   "outputs": [],
   "source": [
    "df.dtypes"
   ]
  },
  {
   "cell_type": "code",
   "execution_count": null,
   "id": "f0530395",
   "metadata": {},
   "outputs": [],
   "source": [
    "# len(df[\"proto\"].unique())\n",
    "# df[\"sload\"]\n",
    "\n",
    "# find state column encodings\n",
    "# oglabels = df[\"proto\"].unique()\n",
    "\n",
    "df[\"attack_cat\"].unique()\n",
    "\n",
    "# visualize the attack cat column\n",
    "\n",
    "# df[\"attack_cat\"].value_counts().plot(kind=\"bar\")\n",
    "\n",
    "df\n"
   ]
  },
  {
   "cell_type": "code",
   "execution_count": null,
   "id": "3be47e37",
   "metadata": {},
   "outputs": [],
   "source": [
    "\n",
    "df[\"proto\"] = le.fit_transform(df[\"proto\"])\n",
    "df[\"service\"] = le.fit_transform(df[\"service\"])\n",
    "df[\"state\"] = le.fit_transform(df[\"state\"])\n",
    "df[\"attack_cat\"] = le.fit_transform(df[\"attack_cat\"])"
   ]
  },
  {
   "cell_type": "code",
   "execution_count": null,
   "id": "b708dbfa",
   "metadata": {},
   "outputs": [],
   "source": [
    "# df.dtypes\n",
    "import json\n",
    "\n",
    "# df[\"service\"].unique()\n",
    "\n",
    "encodings_dict = {\n",
    "    \"proto\": oglabels.tolist(),\n",
    "    \"proto_encoded\": encoded.tolist()\n",
    "}\n",
    "\n",
    "result = {\n",
    "\n",
    "}\n",
    "    \n",
    "for i in range(len(oglabels)):\n",
    "    result[oglabels[i]] = encoded[i]\n",
    "\n",
    "print(result)\n",
    "\n",
    "# encoded_labels_json = json.dumps(encodings_dict)\n",
    "\n",
    "# with open('encoded_labels.json', 'w') as json_file:\n",
    "#     json_file.write(encodings_dict)"
   ]
  },
  {
   "cell_type": "code",
   "execution_count": null,
   "id": "0c78867b",
   "metadata": {},
   "outputs": [],
   "source": [
    "imp_col = [\n",
    "    'id',\n",
    " 'proto',\n",
    " 'service',\n",
    " 'state',\n",
    " 'rate',\n",
    " 'sttl',\n",
    " 'dload',\n",
    " 'swin',\n",
    " 'stcpb',\n",
    " 'dtcpb',\n",
    " 'dwin',\n",
    " 'ct_state_ttl',\n",
    " 'attack_cat',\n",
    " 'label']"
   ]
  },
  {
   "cell_type": "code",
   "execution_count": null,
   "id": "a7a945d9",
   "metadata": {},
   "outputs": [],
   "source": [
    "# df.label.unique()\n",
    "df"
   ]
  },
  {
   "cell_type": "code",
   "execution_count": null,
   "id": "278370ac",
   "metadata": {},
   "outputs": [],
   "source": [
    "dict = {6:\"Normal\", 7:\"Reconnaissance\",1:\"Backdoor\", 2:\"Dos\",3:\"Exploits\",0:\"Analysis\", 4:\"Fuzzers\", 9:\"Worms\", 8:\"SHellcode\", 5:\"Get Request\"}"
   ]
  },
  {
   "cell_type": "code",
   "execution_count": null,
   "id": "16887118",
   "metadata": {},
   "outputs": [],
   "source": [
    "df.corr()"
   ]
  },
  {
   "cell_type": "code",
   "execution_count": null,
   "id": "2ef84f20",
   "metadata": {},
   "outputs": [],
   "source": [
    "df = df[imp_col]"
   ]
  },
  {
   "cell_type": "code",
   "execution_count": null,
   "id": "666fb6f3",
   "metadata": {},
   "outputs": [],
   "source": [
    "# df.corr()\n",
    "# print rows with attack cat 5\n",
    "df[df[\"attack_cat\"] == 6]\n"
   ]
  },
  {
   "cell_type": "code",
   "execution_count": null,
   "id": "839470a5",
   "metadata": {},
   "outputs": [],
   "source": [
    "import matplotlib.pyplot as plt"
   ]
  },
  {
   "cell_type": "code",
   "execution_count": null,
   "id": "5b1184b3",
   "metadata": {},
   "outputs": [],
   "source": [
    "plt.imshow(df.corr())"
   ]
  },
  {
   "cell_type": "code",
   "execution_count": null,
   "id": "f9adc55b",
   "metadata": {},
   "outputs": [],
   "source": [
    "df = df.drop(columns=['id'])"
   ]
  },
  {
   "cell_type": "code",
   "execution_count": null,
   "id": "cefd5932",
   "metadata": {},
   "outputs": [],
   "source": [
    "df = df.drop(columns=['attack_cat'])"
   ]
  },
  {
   "cell_type": "code",
   "execution_count": null,
   "id": "d22d0430",
   "metadata": {},
   "outputs": [],
   "source": [
    "df"
   ]
  },
  {
   "cell_type": "code",
   "execution_count": null,
   "id": "6f86f1c3",
   "metadata": {},
   "outputs": [],
   "source": [
    "from sklearn.ensemble import RandomForestClassifier"
   ]
  },
  {
   "cell_type": "code",
   "execution_count": null,
   "id": "ec00766b",
   "metadata": {},
   "outputs": [],
   "source": [
    "clf = RandomForestClassifier()"
   ]
  },
  {
   "cell_type": "code",
   "execution_count": null,
   "id": "faeca88f",
   "metadata": {},
   "outputs": [],
   "source": [
    "from sklearn.model_selection import train_test_split\n",
    "import numpy as np"
   ]
  },
  {
   "cell_type": "code",
   "execution_count": null,
   "id": "c34438bc",
   "metadata": {},
   "outputs": [],
   "source": [
    "x = df.iloc[:,:-1]\n",
    "y = df.iloc[:, -1]"
   ]
  },
  {
   "cell_type": "code",
   "execution_count": null,
   "id": "f76abc1a",
   "metadata": {},
   "outputs": [],
   "source": [
    "x"
   ]
  },
  {
   "cell_type": "code",
   "execution_count": null,
   "id": "25151616",
   "metadata": {},
   "outputs": [],
   "source": [
    "y"
   ]
  },
  {
   "cell_type": "code",
   "execution_count": null,
   "id": "f017916f",
   "metadata": {},
   "outputs": [],
   "source": [
    "df_x_train,df_x_test,df_y_train,df_y_test = train_test_split(x,y,test_size=0.2)"
   ]
  },
  {
   "cell_type": "code",
   "execution_count": null,
   "id": "198bc17d",
   "metadata": {},
   "outputs": [],
   "source": [
    "clf.fit(df_x_train,df_y_train)"
   ]
  },
  {
   "cell_type": "code",
   "execution_count": null,
   "id": "d6ecbb69",
   "metadata": {},
   "outputs": [],
   "source": [
    "df_y_pred = clf.predict(df_x_test)"
   ]
  },
  {
   "cell_type": "code",
   "execution_count": null,
   "id": "838f8811",
   "metadata": {},
   "outputs": [],
   "source": [
    "from sklearn.metrics import accuracy_score"
   ]
  },
  {
   "cell_type": "code",
   "execution_count": null,
   "id": "8dbcc3c9",
   "metadata": {},
   "outputs": [],
   "source": [
    "print(\"Accuracy sccore in RandomForestClassifier: \",accuracy_score(df_y_pred,df_y_test))"
   ]
  },
  {
   "cell_type": "code",
   "execution_count": null,
   "id": "b84cb44b",
   "metadata": {},
   "outputs": [],
   "source": [
    "import joblib\n",
    "\n",
    "joblib.dump(clf, 'random_classifier_model.pkl')"
   ]
  },
  {
   "cell_type": "code",
   "execution_count": null,
   "id": "3e37eb77",
   "metadata": {},
   "outputs": [],
   "source": [
    "df_y_pred.tolist()"
   ]
  },
  {
   "cell_type": "code",
   "execution_count": null,
   "id": "b3a574a3",
   "metadata": {},
   "outputs": [],
   "source": [
    "from tensorflow.keras.models import Sequential\n",
    "from tensorflow.keras.layers import Dense, Activation\n",
    "from tensorflow.keras.callbacks import EarlyStopping\n",
    "import io\n",
    "import os\n",
    "import requests\n",
    "from sklearn import metrics"
   ]
  },
  {
   "cell_type": "code",
   "execution_count": null,
   "id": "8c44095e",
   "metadata": {},
   "outputs": [],
   "source": [
    "cols_used = ['proto', 'service', 'state', 'rate', 'sttl', 'dload', 'swin', 'stcpb','dtcpb', 'dwin', 'ct_state_ttl', 'label']"
   ]
  },
  {
   "cell_type": "code",
   "execution_count": null,
   "id": "23c17cdb",
   "metadata": {},
   "outputs": [],
   "source": [
    "cols_trained = ['proto', 'service', 'state', 'rate', 'sttl', 'dload', 'swin', 'stcpb','dtcpb', 'dwin', 'ct_state_ttl']"
   ]
  },
  {
   "cell_type": "code",
   "execution_count": null,
   "id": "64675d43",
   "metadata": {},
   "outputs": [],
   "source": [
    "# Create dataframe versions for tabular GAN\n",
    "df_x_test, df_y_test = df_x_test.reset_index(drop=True), df_y_test.reset_index(drop=True)\n",
    "df_y_train = pd.DataFrame(df_y_train)\n",
    "df_y_test = pd.DataFrame(df_y_test)"
   ]
  },
  {
   "cell_type": "code",
   "execution_count": null,
   "id": "bf4ccb4a",
   "metadata": {},
   "outputs": [],
   "source": [
    "df_x_train"
   ]
  },
  {
   "cell_type": "code",
   "execution_count": null,
   "id": "97c4ada8",
   "metadata": {},
   "outputs": [],
   "source": [
    "# Pandas to Numpy\n",
    "x_train = df_x_train.values\n",
    "x_test = df_x_test.values\n",
    "y_train = df_y_train.values\n",
    "y_test = df_y_test.values"
   ]
  },
  {
   "cell_type": "code",
   "execution_count": null,
   "id": "a9fea3cc",
   "metadata": {},
   "outputs": [],
   "source": [
    "import xgboost as xgb\n"
   ]
  },
  {
   "cell_type": "code",
   "execution_count": null,
   "id": "54f64144",
   "metadata": {},
   "outputs": [],
   "source": [
    "# Build the neural network\n",
    "model = Sequential()\n",
    "# Hidden 1\n",
    "model.add(Dense(50, input_dim=x_train.shape[1], activation='relu')) \n",
    "model.add(Dense(25, activation='relu')) # Hidden 2\n",
    "model.add(Dense(12, activation='relu')) # Hidden 2\n",
    "model.add(Dense(1)) # Output\n",
    "model.compile(loss='mean_squared_error', optimizer='adam')"
   ]
  },
  {
   "cell_type": "code",
   "execution_count": null,
   "id": "074376d5",
   "metadata": {},
   "outputs": [],
   "source": [
    "monitor = EarlyStopping(monitor='val_loss', min_delta=1e-3, \n",
    "        patience=5, verbose=1, mode='auto',\n",
    "        restore_best_weights=True)\n",
    "model.fit(x_train,y_train,validation_data=(x_test,y_test), verbose=2,epochs=1000)"
   ]
  },
  {
   "cell_type": "code",
   "execution_count": null,
   "id": "842b6a36",
   "metadata": {},
   "outputs": [],
   "source": [
    "pred = model.predict(x_test)\n",
    "score = np.sqrt(metrics.mean_squared_error(pred,y_test))\n",
    "print(\"Final score (RMSE): {}\".format(score))"
   ]
  },
  {
   "cell_type": "code",
   "execution_count": null,
   "id": "8a873708",
   "metadata": {},
   "outputs": [],
   "source": [
    "x_test[2]"
   ]
  },
  {
   "cell_type": "code",
   "execution_count": null,
   "id": "32e61581",
   "metadata": {},
   "outputs": [],
   "source": [
    "# pred.tolist()\n",
    "\n",
    "# # display all unique values in this pred\n",
    "\n",
    "pred = pd.array(pred.reshape(-1))\n",
    "\n",
    "pred.unique().value_counts()"
   ]
  },
  {
   "cell_type": "code",
   "execution_count": null,
   "id": "81efc034",
   "metadata": {},
   "outputs": [],
   "source": [
    "y_test[22]"
   ]
  },
  {
   "cell_type": "code",
   "execution_count": null,
   "id": "4a03c1d0",
   "metadata": {},
   "outputs": [],
   "source": [
    "from tabgan.sampler import GANGenerator\n",
    "import pandas as pd\n",
    "import numpy as np\n",
    "from sklearn.model_selection import train_test_split"
   ]
  },
  {
   "cell_type": "code",
   "execution_count": null,
   "id": "0ec913b5",
   "metadata": {},
   "outputs": [],
   "source": [
    "!pip install tabgan"
   ]
  },
  {
   "cell_type": "code",
   "execution_count": null,
   "id": "3b746618",
   "metadata": {},
   "outputs": [],
   "source": [
    "gen_x, gen_y = GANGenerator(gen_x_times=1.1, cat_cols=None,\n",
    "           bot_filter_quantile=0.001, top_filter_quantile=0.999, \\\n",
    "              is_post_process=True,\n",
    "           adversarial_model_params={\n",
    "               \"metrics\": \"rmse\", \"max_depth\": 2, \"max_bin\": 100, \n",
    "               \"learning_rate\": 0.02, \"random_state\": \\\n",
    "                42, \"n_estimators\": 500,\n",
    "           }, pregeneration_frac=2, only_generated_data=False,\\\n",
    "           gan_params = {\"batch_size\": 500, \"patience\": 25, \\\n",
    "          \"epochs\" : 500,}).generate_data_pipe(df_x_train, df_y_train,\\\n",
    "          df_x_test, deep_copy=True, only_adversarial=False, \\\n",
    "          use_adversarial=True)"
   ]
  },
  {
   "cell_type": "code",
   "execution_count": null,
   "id": "4ea14abb",
   "metadata": {},
   "outputs": [],
   "source": [
    "gen_x"
   ]
  },
  {
   "cell_type": "code",
   "execution_count": null,
   "id": "f199b172",
   "metadata": {},
   "outputs": [],
   "source": [
    "# Predict\n",
    "pred = model.predict(gen_x.values)\n",
    "score = np.sqrt(metrics.mean_squared_error(pred,gen_y.values))\n",
    "#more the rmse towards 0 better the model\n",
    "print(\"Final score (RMSE): {}\".format(score))"
   ]
  },
  {
   "cell_type": "code",
   "execution_count": null,
   "id": "99b907c1",
   "metadata": {},
   "outputs": [],
   "source": [
    "model.save(\"ids2.keras\")"
   ]
  },
  {
   "cell_type": "code",
   "execution_count": null,
   "id": "b3aebf0f",
   "metadata": {},
   "outputs": [],
   "source": [
    "\n",
    "\n",
    "newmod = load_model(\"ids2.keras\")\n",
    "\n",
    "newmod.summary()"
   ]
  },
  {
   "cell_type": "code",
   "execution_count": null,
   "id": "395522de",
   "metadata": {},
   "outputs": [],
   "source": [
    "model.save_weights(\"ids_weights.h5\")"
   ]
  },
  {
   "cell_type": "code",
   "execution_count": null,
   "id": "60c8812e",
   "metadata": {},
   "outputs": [],
   "source": [
    "# from tensorflow.keras.models import load_model\n",
    "\n",
    "# newmod = load_model(\"ids.keras\")\n",
    "\n",
    "# pred = newmod.predict(x_test)\n",
    "# score = np.sqrt(metrics.mean_squared_error(pred,y_test))\n",
    "# print(\"Final score (RMSE): {}\".format(score))\n",
    "\n",
    "x_test[510]"
   ]
  },
  {
   "cell_type": "code",
   "execution_count": null,
   "id": "97851312",
   "metadata": {},
   "outputs": [],
   "source": [
    "# input =  [\n",
    "#   111,\n",
    "#   5,\n",
    "#   2,\n",
    "#   2.10349178314209,\n",
    "#   64,\n",
    "#   3621.37158203125,\n",
    "#   369,\n",
    "#   1845764736,\n",
    "#   2769450240,\n",
    "#   369,\n",
    "#   0\n",
    "# ]\n",
    "\n",
    "\n",
    "# input = [\n",
    "#   111,\n",
    "#   5,\n",
    "#   2,\n",
    "#   1.8418467044830322,\n",
    "#   64,\n",
    "#   3159.135498046875,\n",
    "#   369,\n",
    "#   2750092032,\n",
    "#   1906955392,\n",
    "#   369,\n",
    "#   0\n",
    "# ]\n",
    "input = [\n",
    "  111,\n",
    "  5,\n",
    "  4,\n",
    "  1.0162601470947266,\n",
    "  64,\n",
    "  325.2032470703125,\n",
    "  65535,\n",
    "  2249695488,\n",
    "  0,\n",
    "  65535,\n",
    "  0\n",
    "]\n",
    "\n",
    "input = np.array(input)\n",
    "\n",
    "input = input.reshape(1,11)\n",
    "print(input.shape)\n",
    "# newmod.predict(x_test[9710].reshape(1,11))\n",
    "res = model.predict(input)\n",
    "\n",
    "res\n",
    "\n",
    "\n",
    "# select last weights\n",
    "\n"
   ]
  }
 ],
 "metadata": {
  "kernelspec": {
   "display_name": "Python 3 (ipykernel)",
   "language": "python",
   "name": "python3"
  },
  "language_info": {
   "codemirror_mode": {
    "name": "ipython",
    "version": 3
   },
   "file_extension": ".py",
   "mimetype": "text/x-python",
   "name": "python",
   "nbconvert_exporter": "python",
   "pygments_lexer": "ipython3",
   "version": "3.11.4"
  }
 },
 "nbformat": 4,
 "nbformat_minor": 5
}
